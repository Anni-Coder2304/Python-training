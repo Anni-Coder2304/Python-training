{
  "nbformat": 4,
  "nbformat_minor": 0,
  "metadata": {
    "colab": {
      "provenance": []
    },
    "kernelspec": {
      "name": "python3",
      "display_name": "Python 3"
    },
    "language_info": {
      "name": "python"
    }
  },
  "cells": [
    {
      "cell_type": "code",
      "execution_count": 34,
      "metadata": {
        "colab": {
          "base_uri": "https://localhost:8080/"
        },
        "id": "fooBKl8FmcO4",
        "outputId": "996362d3-f4fc-4cf2-ad68-001db17a9fe9"
      },
      "outputs": [
        {
          "output_type": "stream",
          "name": "stdout",
          "text": [
            "current word \"is\" shorter than longest word \"name\"\n",
            "Anmol 5\n"
          ]
        }
      ],
      "source": [
        "str1='My name is Anmol'\n",
        "\n",
        "str2=lambda x:x.split(' ')\n",
        "longest_word=''\n",
        "longest_length=0\n",
        "\n",
        "for i in str2(str1):\n",
        "  if len(i)>longest_length:\n",
        "    longest_length=len(i)\n",
        "    longest_word=i\n",
        "\n",
        "\n",
        "  else:\n",
        "    print(f'current word \"{i}\" shorter than longest word \"{longest_word}\"')\n",
        "\n",
        "print(longest_word,longest_length)\n",
        "\n",
        "\n",
        "\n",
        "\n",
        "\n",
        "\n",
        "\n",
        "\n",
        "\n"
      ]
    },
    {
      "cell_type": "code",
      "source": [
        "str1='Anmol'\n",
        "str2='Ujjawal'\n",
        "\n",
        "merged_string=''\n",
        "\n",
        "for i in range(max(len(str1),len(str2))):\n",
        "  if i<len(str1):\n",
        "    merged_string+=str1[i]\n",
        "  if i<len(str2):\n",
        "    merged_string+=str2[i]\n",
        "\n",
        "print(merged_string)\n",
        "\n",
        "\n",
        "\n",
        "\n",
        "\n"
      ],
      "metadata": {
        "colab": {
          "base_uri": "https://localhost:8080/"
        },
        "id": "456iibnZml4b",
        "outputId": "e483ff78-a4d5-43d2-c306-5f55f8363fa1"
      },
      "execution_count": 38,
      "outputs": [
        {
          "output_type": "stream",
          "name": "stdout",
          "text": [
            "AUnjmjoalwal\n"
          ]
        }
      ]
    },
    {
      "cell_type": "code",
      "source": [
        "str1='Kieran'\n",
        "str2='Macharthy'\n",
        "\n",
        "merged_string=''\n",
        "\n",
        "i = 0\n",
        "j = 0\n",
        "\n",
        "while i < len(str1) or j < len(str2): # Loop continues until both strings are exhausted\n",
        "  if i < len(str1):\n",
        "    merged_string += str1[i]\n",
        "    i += 1\n",
        "  if j < len(str2):\n",
        "    merged_string += str2[j]\n",
        "    j += 1\n",
        "\n",
        "print(merged_string)"
      ],
      "metadata": {
        "colab": {
          "base_uri": "https://localhost:8080/"
        },
        "id": "h7a5HsXq5yGV",
        "outputId": "dc45c363-8803-4df1-9567-aef5ef582273"
      },
      "execution_count": 53,
      "outputs": [
        {
          "output_type": "stream",
          "name": "stdout",
          "text": [
            "KMiaecrhaanrthy\n"
          ]
        }
      ]
    },
    {
      "cell_type": "code",
      "source": [
        "# To reverse the list of words\n",
        "\n",
        "l1=input('Enter a list if words')\n",
        "\n",
        "lam=lambda x:x.split(' ')\n",
        "l2=[]\n",
        "l3=[]\n",
        "\n",
        "\n",
        "for word in lam(l1):\n",
        "  rev=''.join(reversed(word))\n",
        "  l2.append(rev)\n",
        "  l3.append(word+rev)\n",
        "\n",
        "print(f'Input string as per user\"s choice {l1}')\n",
        "print(f'Reversed words in the list {l2}')\n",
        "print(f'concatenated the original word + reversed word in the list {l3}')\n",
        "\n",
        "\n",
        "\n",
        "\n"
      ],
      "metadata": {
        "colab": {
          "base_uri": "https://localhost:8080/"
        },
        "id": "FMFHGz8-9LyQ",
        "outputId": "b33c5d30-8083-4639-a580-51dc1c086b90"
      },
      "execution_count": 78,
      "outputs": [
        {
          "output_type": "stream",
          "name": "stdout",
          "text": [
            "Enter a list if wordsmy name is anmol\n",
            "Input string as per user\"s choice my name is anmol\n",
            "Reversed words in the list ['ym', 'eman', 'si', 'lomna']\n",
            "concatenated the original word + reversed word in the list ['myym', 'nameeman', 'issi', 'anmollomna']\n"
          ]
        }
      ]
    },
    {
      "cell_type": "code",
      "source": [],
      "metadata": {
        "id": "g3zcQrUwDm5M"
      },
      "execution_count": 72,
      "outputs": []
    }
  ]
}