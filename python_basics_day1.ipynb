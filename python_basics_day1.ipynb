{
  "nbformat": 4,
  "nbformat_minor": 0,
  "metadata": {
    "colab": {
      "provenance": []
    },
    "kernelspec": {
      "name": "python3",
      "display_name": "Python 3"
    },
    "language_info": {
      "name": "python"
    }
  },
  "cells": [
    {
      "cell_type": "code",
      "execution_count": null,
      "metadata": {
        "colab": {
          "base_uri": "https://localhost:8080/"
        },
        "id": "fooBKl8FmcO4",
        "outputId": "996362d3-f4fc-4cf2-ad68-001db17a9fe9"
      },
      "outputs": [
        {
          "output_type": "stream",
          "name": "stdout",
          "text": [
            "current word \"is\" shorter than longest word \"name\"\n",
            "Anmol 5\n"
          ]
        }
      ],
      "source": [
        "# To find the longest word in the list of words.\n",
        "str1='My name is Anmol'\n",
        "\n",
        "str2=lambda x:x.split(' ')\n",
        "longest_word=''\n",
        "longest_length=0\n",
        "\n",
        "for i in str2(str1):\n",
        "  if len(i)>longest_length:\n",
        "    longest_length=len(i)\n",
        "    longest_word=i\n",
        "\n",
        "\n",
        "  else:\n",
        "    print(f'current word \"{i}\" shorter than longest word \"{longest_word}\"')\n",
        "\n",
        "print(longest_word,longest_length)\n",
        "\n",
        "\n",
        "\n",
        "\n",
        "\n",
        "\n",
        "\n",
        "\n",
        "\n"
      ]
    },
    {
      "cell_type": "code",
      "source": [
        "# To merge the alternate aplhabets for the below given strings using for loop.\n",
        "\n",
        "str1='Anmol'\n",
        "str2='Ujjawal'\n",
        "\n",
        "merged_string=''\n",
        "\n",
        "for i in range(max(len(str1),len(str2))):\n",
        "  if i<len(str1):\n",
        "    merged_string+=str1[i]\n",
        "  if i<len(str2):\n",
        "    merged_string+=str2[i]\n",
        "\n",
        "print(merged_string)\n",
        "\n",
        "\n",
        "\n",
        "\n",
        "\n"
      ],
      "metadata": {
        "colab": {
          "base_uri": "https://localhost:8080/"
        },
        "id": "456iibnZml4b",
        "outputId": "e483ff78-a4d5-43d2-c306-5f55f8363fa1"
      },
      "execution_count": null,
      "outputs": [
        {
          "output_type": "stream",
          "name": "stdout",
          "text": [
            "AUnjmjoalwal\n"
          ]
        }
      ]
    },
    {
      "cell_type": "code",
      "source": [
        "# To merge the alternate aplhabets for the below given strings using While loop.\n",
        "str1='Kieran'\n",
        "str2='Macharthy'\n",
        "\n",
        "merged_string=''\n",
        "\n",
        "i = 0\n",
        "j = 0\n",
        "\n",
        "while i < len(str1) or j < len(str2): # Loop continues until both strings are exhausted\n",
        "  if i < len(str1):\n",
        "    merged_string += str1[i]\n",
        "    i += 1\n",
        "  if j < len(str2):\n",
        "    merged_string += str2[j]\n",
        "    j += 1\n",
        "\n",
        "print(merged_string)"
      ],
      "metadata": {
        "colab": {
          "base_uri": "https://localhost:8080/"
        },
        "id": "h7a5HsXq5yGV",
        "outputId": "dc45c363-8803-4df1-9567-aef5ef582273"
      },
      "execution_count": null,
      "outputs": [
        {
          "output_type": "stream",
          "name": "stdout",
          "text": [
            "KMiaecrhaanrthy\n"
          ]
        }
      ]
    },
    {
      "cell_type": "code",
      "source": [
        "# To reverse the list of words and concatenate each word with the original words.\n",
        "\n",
        "l1=input('Enter a list if words')\n",
        "\n",
        "lam=lambda x:x.split(' ')\n",
        "l2=[]\n",
        "l3=[]\n",
        "\n",
        "\n",
        "for word in lam(l1):\n",
        "  rev=''.join(reversed(word))\n",
        "  l2.append(rev)\n",
        "  l3.append(word+rev)\n",
        "\n",
        "print(f'Input string as per user\"s choice {l1}')\n",
        "print(f'Reversed words in the list {l2}')\n",
        "print(f'concatenated the original word + reversed word in the list {l3}')\n",
        "\n",
        "\n",
        "\n",
        "\n"
      ],
      "metadata": {
        "colab": {
          "base_uri": "https://localhost:8080/"
        },
        "id": "FMFHGz8-9LyQ",
        "outputId": "b33c5d30-8083-4639-a580-51dc1c086b90"
      },
      "execution_count": null,
      "outputs": [
        {
          "output_type": "stream",
          "name": "stdout",
          "text": [
            "Enter a list if wordsmy name is anmol\n",
            "Input string as per user\"s choice my name is anmol\n",
            "Reversed words in the list ['ym', 'eman', 'si', 'lomna']\n",
            "concatenated the original word + reversed word in the list ['myym', 'nameeman', 'issi', 'anmollomna']\n"
          ]
        }
      ]
    },
    {
      "cell_type": "code",
      "source": [
        "# To check the first character of the words input via users and return True if same else False.\n",
        "\n",
        "str1=input('Enter 1st word of user\"s choice: ')\n",
        "str2=input('Enter 2nd word of user\"s choice: ')\n",
        "\n",
        "if str1[0].capitalize() == str2[0].capitalize():\n",
        "  print(True)\n",
        "else:\n",
        "  print(False)\n",
        "\n",
        "  ''' The above code asked in interview questions just to check your basics of how to take input from users via input() function and also here capitalize() function\n",
        "  to ignore the case of characters input via user.\n",
        "\n",
        "  for example : if user input 1st string as 'crazy' and 2nd input as 'Chocolate' so the case of 'c' and 'C' is different here so this capitalize() function change the char 'c' into\n",
        "  Upper case in ever case if lower case and return value True else False in case the character is different.'''\n"
      ],
      "metadata": {
        "id": "g3zcQrUwDm5M",
        "colab": {
          "base_uri": "https://localhost:8080/"
        },
        "outputId": "2e30c249-92f3-4469-a5b2-9c038d92f3bb"
      },
      "execution_count": 11,
      "outputs": [
        {
          "output_type": "stream",
          "name": "stdout",
          "text": [
            "Enter 1st word of user\"s choice: choco\n",
            "Enter 2nd word of user\"s choice: Chocolate\n",
            "True\n"
          ]
        }
      ]
    },
    {
      "cell_type": "code",
      "source": [
        "# To define a function that accepts arguments as stings and check if both starts with same character and return True else False.\n",
        "\n",
        "def match_char(s1,s2):\n",
        "  if s1[0] == s2[0]:\n",
        "    return True\n",
        "  else:\n",
        "    return False\n",
        "\n",
        "\n",
        "str1=input('Enter any word of user\"s choice')\n",
        "str2=input('Enter any word of user\"s choice')\n",
        "\n",
        "print(match_char(str1,str2))\n",
        "\n",
        "''' The above code is similar to prior one the only difference is that we don't use capitalize() function here but the requirement to code using function.'''\n",
        "\n"
      ],
      "metadata": {
        "colab": {
          "base_uri": "https://localhost:8080/"
        },
        "id": "AUIrLXClEA5A",
        "outputId": "35c56a85-0973-4439-ec89-61efb6d7202d"
      },
      "execution_count": 7,
      "outputs": [
        {
          "output_type": "stream",
          "name": "stdout",
          "text": [
            "Enter any word of user\"s choicecrazy\n",
            "Enter any word of user\"s choicechocolate \n",
            "True\n"
          ]
        }
      ]
    },
    {
      "cell_type": "markdown",
      "source": [],
      "metadata": {
        "id": "yR5Jr_6DgGh9"
      }
    },
    {
      "cell_type": "code",
      "source": [
        "'''Input anu string from user having repetition of character\n",
        "and to print the frequency of each character in the form of dictionary -> Key,Values\n",
        "where key is each unique character and Value is frequency of that character.'''\n",
        "\n",
        "str1=input('Enter any string having repetition of characters: ')\n",
        "print(str1)\n",
        "\n",
        "dict1={}\n",
        "\n",
        "for i in str1:\n",
        "  if i in dict1:\n",
        "    flag = True\n",
        "    dict1[i]+=1\n",
        "  else:\n",
        "    flag = False\n",
        "    dict1[i]=1\n",
        "\n",
        "print(dict1)\n",
        "print(dict1.items()) # This will print list of tuples as shown below in output..\n",
        "\n",
        "sorted_dict_values = dict(sorted(dict1.items(),key=lambda x:x[1], reverse=True))\n",
        "print(sorted_dict_values) # printed the dict. in descending order on the basis of Value of dict.\n",
        "\n",
        "sorted_dict_keys = sorted(dict1.items(),key=lambda x:x[0])\n",
        "print(sorted_dict_keys) # printed the dict. in ascending order on the basis of key of dict."
      ],
      "metadata": {
        "colab": {
          "base_uri": "https://localhost:8080/"
        },
        "id": "ym6_TKBHHU1k",
        "outputId": "6852161f-8a62-4919-e495-43b3c370f89f"
      },
      "execution_count": 38,
      "outputs": [
        {
          "output_type": "stream",
          "name": "stdout",
          "text": [
            "Enter any string having repetition of characters: akash\n",
            "akash\n",
            "{'a': 2, 'k': 1, 's': 1, 'h': 1}\n",
            "dict_items([('a', 2), ('k', 1), ('s', 1), ('h', 1)])\n",
            "{'a': 2, 'k': 1, 's': 1, 'h': 1}\n",
            "[('a', 2), ('h', 1), ('k', 1), ('s', 1)]\n"
          ]
        }
      ]
    },
    {
      "cell_type": "code",
      "source": [
        "# basic functions of dict.\n",
        "dict1={'apple':1,'mango':2,'banana': 3,'melon': 4}\n",
        "\n",
        "print(dict1)\n",
        "print(dict1.items())\n",
        "print(dict1.values())\n",
        "print(dict1.keys())\n",
        "print(dict1.get('apple'))\n",
        "\n",
        "dict2={'anmol':1,'tomar':2}\n",
        "\n",
        "# Merge two dict. using update() function due to which dict1 changed in place means no new dict. created..\n",
        "dict1.update(dict2)\n",
        "print(dict1)\n",
        "\n",
        "# Merge two dict. using Union operator (|) and will create new dict. in this case.\n",
        "merged_dict1 = dict1 | dict2\n",
        "print(merged_dict1)\n",
        "\n",
        "# MMerge two dict. using (**) operator and this also will create new dict.\n",
        "merged_dict2 = {**dict1 ,**dict2}\n",
        "print(merged_dict2)\n",
        "\n",
        "\n",
        "\n",
        "\n",
        "\n",
        "\n",
        "\n",
        "\n"
      ],
      "metadata": {
        "colab": {
          "base_uri": "https://localhost:8080/"
        },
        "id": "JpgQAvRiUx8H",
        "outputId": "95c55e8d-5416-4a0d-c56b-2756e3f25c7a"
      },
      "execution_count": 61,
      "outputs": [
        {
          "output_type": "stream",
          "name": "stdout",
          "text": [
            "{'apple': 1, 'mango': 2, 'banana': 3, 'melon': 4}\n",
            "dict_items([('apple', 1), ('mango', 2), ('banana', 3), ('melon', 4)])\n",
            "dict_values([1, 2, 3, 4])\n",
            "dict_keys(['apple', 'mango', 'banana', 'melon'])\n",
            "1\n",
            "{'apple': 1, 'mango': 2, 'banana': 3, 'melon': 4, 'anmol': 1, 'tomar': 2}\n",
            "{'apple': 1, 'mango': 2, 'banana': 3, 'melon': 4, 'anmol': 1, 'tomar': 2}\n",
            "{'apple': 1, 'mango': 2, 'banana': 3, 'melon': 4, 'anmol': 1, 'tomar': 2}\n"
          ]
        }
      ]
    },
    {
      "cell_type": "code",
      "source": [],
      "metadata": {
        "id": "7ocxvL1Dh8sT"
      },
      "execution_count": null,
      "outputs": []
    }
  ]
}