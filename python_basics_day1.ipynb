{
  "nbformat": 4,
  "nbformat_minor": 0,
  "metadata": {
    "colab": {
      "provenance": [],
      "include_colab_link": true
    },
    "kernelspec": {
      "name": "python3",
      "display_name": "Python 3"
    },
    "language_info": {
      "name": "python"
    }
  },
  "cells": [
    {
      "cell_type": "markdown",
      "metadata": {
        "id": "view-in-github",
        "colab_type": "text"
      },
      "source": [
        "<a href=\"https://colab.research.google.com/github/Anni-Coder2304/Python-training/blob/main/python_basics_day1.ipynb\" target=\"_parent\"><img src=\"https://colab.research.google.com/assets/colab-badge.svg\" alt=\"Open In Colab\"/></a>"
      ]
    },
    {
      "cell_type": "code",
      "execution_count": 34,
      "metadata": {
        "colab": {
          "base_uri": "https://localhost:8080/"
        },
        "id": "fooBKl8FmcO4",
        "outputId": "996362d3-f4fc-4cf2-ad68-001db17a9fe9"
      },
      "outputs": [
        {
          "output_type": "stream",
          "name": "stdout",
          "text": [
            "current word \"is\" shorter than longest word \"name\"\n",
            "Anmol 5\n"
          ]
        }
      ],
      "source": [
        "str1='My name is Anmol'\n",
        "\n",
        "str2=lambda x:x.split(' ')\n",
        "longest_word=''\n",
        "longest_length=0\n",
        "\n",
        "for i in str2(str1):\n",
        "  if len(i)>longest_length:\n",
        "    longest_length=len(i)\n",
        "    longest_word=i\n",
        "\n",
        "\n",
        "  else:\n",
        "    print(f'current word \"{i}\" shorter than longest word \"{longest_word}\"')\n",
        "\n",
        "print(longest_word,longest_length)\n",
        "\n",
        "\n",
        "\n",
        "\n",
        "\n",
        "\n",
        "\n",
        "\n",
        "\n"
      ]
    },
    {
      "cell_type": "code",
      "source": [
        "str1='Anmol'\n",
        "str2='Ujjawal'\n",
        "\n",
        "merged_string=''\n",
        "\n",
        "for i in range(max(len(str1),len(str2))):\n",
        "  if i<len(str1):\n",
        "    merged_string+=str1[i]\n",
        "  if i<len(str2):\n",
        "    merged_string+=str2[i]\n",
        "\n",
        "print(merged_string)\n",
        "\n",
        "\n",
        "\n",
        "\n",
        "\n"
      ],
      "metadata": {
        "colab": {
          "base_uri": "https://localhost:8080/"
        },
        "id": "456iibnZml4b",
        "outputId": "e483ff78-a4d5-43d2-c306-5f55f8363fa1"
      },
      "execution_count": 38,
      "outputs": [
        {
          "output_type": "stream",
          "name": "stdout",
          "text": [
            "AUnjmjoalwal\n"
          ]
        }
      ]
    },
    {
      "cell_type": "code",
      "source": [
        "str1='Kieran'\n",
        "str2='Macharthy'\n",
        "\n",
        "merged_string=''\n",
        "\n",
        "i = 0\n",
        "j = 0\n",
        "\n",
        "while i < len(str1) or j < len(str2): # Loop continues until both strings are exhausted\n",
        "  if i < len(str1):\n",
        "    merged_string += str1[i]\n",
        "    i += 1\n",
        "  if j < len(str2):\n",
        "    merged_string += str2[j]\n",
        "    j += 1\n",
        "\n",
        "print(merged_string)"
      ],
      "metadata": {
        "id": "h7a5HsXq5yGV",
        "outputId": "dc45c363-8803-4df1-9567-aef5ef582273",
        "colab": {
          "base_uri": "https://localhost:8080/"
        }
      },
      "execution_count": 53,
      "outputs": [
        {
          "output_type": "stream",
          "name": "stdout",
          "text": [
            "KMiaecrhaanrthy\n"
          ]
        }
      ]
    },
    {
      "cell_type": "code",
      "source": [],
      "metadata": {
        "id": "FMFHGz8-9LyQ"
      },
      "execution_count": 49,
      "outputs": []
    }
  ]
}